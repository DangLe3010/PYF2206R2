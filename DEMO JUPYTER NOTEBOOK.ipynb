{
 "cells": [
  {
   "cell_type": "code",
   "execution_count": 2,
   "id": "7a34508f",
   "metadata": {
    "scrolled": false
   },
   "outputs": [
    {
     "name": "stdout",
     "output_type": "stream",
     "text": [
      "hello world !!\n"
     ]
    }
   ],
   "source": [
    "print(\"hello world !!\")"
   ]
  },
  {
   "cell_type": "code",
   "execution_count": 3,
   "id": "caa23193",
   "metadata": {},
   "outputs": [
    {
     "name": "stdout",
     "output_type": "stream",
     "text": [
      "PYF2208R2\n"
     ]
    }
   ],
   "source": [
    "print(\"PYF2208R2\")"
   ]
  },
  {
   "cell_type": "code",
   "execution_count": 4,
   "id": "1b809828",
   "metadata": {},
   "outputs": [
    {
     "name": "stdout",
     "output_type": "stream",
     "text": [
      "HELLO WORLD!\n",
      "My Name is Đăng\n",
      "I am studying Python Fundamental\n"
     ]
    }
   ],
   "source": [
    "print(\"HELLO WORLD!\")\n",
    "print(\"My Name is Đăng\")\n",
    "print(\"I am studying Python Fundamental\")"
   ]
  },
  {
   "cell_type": "code",
   "execution_count": null,
   "id": "26ffa32c",
   "metadata": {},
   "outputs": [],
   "source": []
  }
 ],
 "metadata": {
  "kernelspec": {
   "display_name": "Python 3 (ipykernel)",
   "language": "python",
   "name": "python3"
  },
  "language_info": {
   "codemirror_mode": {
    "name": "ipython",
    "version": 3
   },
   "file_extension": ".py",
   "mimetype": "text/x-python",
   "name": "python",
   "nbconvert_exporter": "python",
   "pygments_lexer": "ipython3",
   "version": "3.10.7"
  }
 },
 "nbformat": 4,
 "nbformat_minor": 5
}
