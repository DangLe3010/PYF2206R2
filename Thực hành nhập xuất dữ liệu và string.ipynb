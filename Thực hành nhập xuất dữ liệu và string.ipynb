{
 "cells": [
  {
   "cell_type": "markdown",
   "id": "46f125ee",
   "metadata": {},
   "source": [
    "## Bài 1\n",
    "viết chương trình nhập vào một chuỗi và in ra các kí tự có index là số chẵn trong chuỗi\n",
    "vd: str ='python'"
   ]
  },
  {
   "cell_type": "code",
   "execution_count": 6,
   "id": "d6f7867c",
   "metadata": {},
   "outputs": [
    {
     "name": "stdout",
     "output_type": "stream",
     "text": [
      "Nhập stringlhgjdgljdg\n",
      "lgdld\n"
     ]
    }
   ],
   "source": [
    "string = input(\"Nhập string\")\n",
    "print(string[::2])"
   ]
  },
  {
   "cell_type": "markdown",
   "id": "cef4dd12",
   "metadata": {},
   "source": [
    "## Bài 2\n",
    "Nhập một số đo đơn vị met(m), in ra số đo vừa nhập ở đơn vị centimet(cm)"
   ]
  },
  {
   "cell_type": "code",
   "execution_count": 20,
   "id": "b91205cc",
   "metadata": {},
   "outputs": [
    {
     "name": "stdout",
     "output_type": "stream",
     "text": [
      "nhập số đo: 10\n",
      "10.0met = 1000.0centimet\n"
     ]
    }
   ],
   "source": [
    "met = float(input(\"nhập số đo: \"))\n",
    "centimet = met * 100\n",
    "print(f\"{met}met = {centimet}centimet\")\n",
    "\n",
    "\n",
    "\n"
   ]
  },
  {
   "cell_type": "markdown",
   "id": "183a638b",
   "metadata": {},
   "source": [
    "## Bài 3\n",
    "Nhập vào 'tien_luong_theo_gio' và 'so_gio' trong 1 tháng và 'tien_thuong' sau dó in ra tổng thu nhập trong tháng\n",
    "Biết rằng: Tổng thu nhập=tiền lương theo giờ * số giờ + tiền thưởng"
   ]
  },
  {
   "cell_type": "code",
   "execution_count": 19,
   "id": "c2091685",
   "metadata": {},
   "outputs": [
    {
     "name": "stdout",
     "output_type": "stream",
     "text": [
      "nhập tiền lương theo giờ : 100000\n",
      "nhập số giờ :15\n",
      "tiền thưởng : 1000000\n",
      "tổng thu nhập trong thang là 2500000.0\n"
     ]
    }
   ],
   "source": [
    "tien_luong_theo_gio = float(input(\"nhập tiền lương theo giờ : \"))\n",
    "so_gio = float(input(\"nhập số giờ :\"))\n",
    "tien_thuong = float(input(\"tiền thưởng : \"))\n",
    "tong_thu_nhap= tien_luong_theo_gio * so_gio + tien_thuong\n",
    "print(f\"tổng thu nhập trong thang là {tong_thu_nhap}\")"
   ]
  },
  {
   "cell_type": "markdown",
   "id": "c52ce91e",
   "metadata": {},
   "source": [
    "##  Bài 4\n",
    "Nhập vào một string và một số x, hãy xóa x ký tự đàu tiên của string\n",
    "vd: string = 'hello python',x=3\n",
    "output 'lo python'\n",
    "\n"
   ]
  },
  {
   "cell_type": "code",
   "execution_count": 23,
   "id": "2610bcc3",
   "metadata": {},
   "outputs": [
    {
     "name": "stdout",
     "output_type": "stream",
     "text": [
      "nhập string:1314245\n",
      "nhập số ký tự cần xóa:4\n",
      "string sau khi cắt là: 245\n"
     ]
    }
   ],
   "source": [
    "string = input(\"nhập string:\")\n",
    "x = int(input(\"nhập số ký tự cần xóa:\"))\n",
    "string = string[x:]\n",
    "print(f\"string sau khi cắt là: {string}\")"
   ]
  },
  {
   "cell_type": "markdown",
   "id": "2699a6d6",
   "metadata": {},
   "source": [
    "## Bài 5 \n",
    "Nhập vào một string. kiểm tra xem đây có phải là một string đối xứng hay không \n",
    "Note: chuỗi đối xứng là chuỗi có thứ tự giống nhau khi đọc từ trái sang phải và ngược lại\n",
    "vd:\n",
    "abba\n",
    "abcdcba\n",
    "\n"
   ]
  },
  {
   "cell_type": "code",
   "execution_count": 24,
   "id": "3403d6d1",
   "metadata": {},
   "outputs": [
    {
     "name": "stdout",
     "output_type": "stream",
     "text": [
      "nhập string: abba\n",
      "True\n"
     ]
    }
   ],
   "source": [
    "string = input('nhập string: ')\n",
    "re_string = string[::-1]\n",
    "print(string==re_string)"
   ]
  }
 ],
 "metadata": {
  "kernelspec": {
   "display_name": "Python 3 (ipykernel)",
   "language": "python",
   "name": "python3"
  },
  "language_info": {
   "codemirror_mode": {
    "name": "ipython",
    "version": 3
   },
   "file_extension": ".py",
   "mimetype": "text/x-python",
   "name": "python",
   "nbconvert_exporter": "python",
   "pygments_lexer": "ipython3",
   "version": "3.10.7"
  }
 },
 "nbformat": 4,
 "nbformat_minor": 5
}
