{
 "cells": [
  {
   "cell_type": "markdown",
   "id": "a6fb62a1",
   "metadata": {},
   "source": [
    "# Kiểu dữ liệu LIST\n"
   ]
  },
  {
   "cell_type": "markdown",
   "id": "0c5bd43a",
   "metadata": {},
   "source": [
    "1/Kiểu dữ liệu List trong Python là một collection lưu trữ các phần tử theo tứ tự đã cho, có thể thay đổi. Cho phép chứa dữ liệu trùng lặp. List có cấu trúc dữ liệu mà có khả năng lưu giữ các kiểu dữ liệu khác nhau.\n",
    "\n",
    "List trong Python được viết với dấu ngoặc vuông [].\n",
    "\n",
    "Tương tự như chỉ mục của chuỗi, chỉ mục của List bắt đầu từ 0."
   ]
  },
  {
   "cell_type": "code",
   "execution_count": 5,
   "id": "8b53ead9",
   "metadata": {},
   "outputs": [],
   "source": [
    "#Ví dụ:\n",
    "list1 = ['java', 'python', 1997, 2000];\n",
    "list2 = [1, 2, 3, 4, 5 ];\n",
    "list3 = [\"a\", \"b\", \"c\", \"d\"];"
   ]
  },
  {
   "cell_type": "markdown",
   "id": "c9656232",
   "metadata": {},
   "source": [
    "-Truy cập các phần tử của List trong Python:"
   ]
  },
  {
   "cell_type": "code",
   "execution_count": 1,
   "id": "4c964ff7",
   "metadata": {},
   "outputs": [
    {
     "name": "stdout",
     "output_type": "stream",
     "text": [
      "python\n"
     ]
    }
   ],
   "source": [
    "#Để truy cập các phần tử trong List, bạn sử dụng cú pháp sau:\n",
    "list1 = ['java', 'python', 'php', 'c++']\n",
    "print(list1[1])"
   ]
  },
  {
   "cell_type": "markdown",
   "id": "ff045af9",
   "metadata": {},
   "source": [
    "-Chỉ mục âm\n",
    "Lập chỉ mục âm có nghĩa là bắt đầu từ cuối, -1 đề cập đến mục cuối cùng, -2 đề cập đến mục cuối cùng thứ hai, v.v."
   ]
  },
  {
   "cell_type": "code",
   "execution_count": 6,
   "id": "e830d82b",
   "metadata": {},
   "outputs": [
    {
     "name": "stdout",
     "output_type": "stream",
     "text": [
      "c++\n"
     ]
    }
   ],
   "source": [
    "#Ví dụ:\n",
    "list1 = ['java', 'python', 'php', 'c++']\n",
    "print(list1[-1])"
   ]
  },
  {
   "cell_type": "markdown",
   "id": "1568f6c8",
   "metadata": {},
   "source": [
    "-Phạm vi chỉ mục\n",
    "\n",
    "Bạn có thể chỉ định một phạm vi chỉ mục bằng cách chỉ định nơi bắt đầu và nơi kết thúc phạm vi.\n",
    "\n",
    "Khi chỉ định một phạm vi, giá trị trả về sẽ là một List mới với các mục được chỉ định.\n",
    "\n"
   ]
  },
  {
   "cell_type": "code",
   "execution_count": 7,
   "id": "5b7de98a",
   "metadata": {},
   "outputs": [
    {
     "name": "stdout",
     "output_type": "stream",
     "text": [
      "['guava', 'orange', 'kiwi']\n"
     ]
    }
   ],
   "source": [
    "#Ví dụ : Trả lại mục thứ ba, thứ tư và thứ năm:\n",
    "fruits = [\"apple\", \"banana\", \"guava\", \"orange\", \"kiwi\", \"melon\", \"mango\"]\n",
    "print(fruits[2:5])"
   ]
  },
  {
   "cell_type": "markdown",
   "id": "65cb74c1",
   "metadata": {},
   "source": [
    "-Phạm vi của các chỉ mục âm\n",
    "\n",
    "Chỉ định các chỉ mục âm nếu bạn muốn bắt đầu tìm kiếm từ cuối danh sách:"
   ]
  },
  {
   "cell_type": "code",
   "execution_count": 8,
   "id": "aa3b9238",
   "metadata": {},
   "outputs": [
    {
     "name": "stdout",
     "output_type": "stream",
     "text": [
      "['orange', 'kiwi', 'melon']\n"
     ]
    }
   ],
   "source": [
    "#Ví dụ : trả về các mục từ chỉ mục -4 (bao gồm) đến chỉ mục -1 (không bao gồm):\n",
    "fruits = [\"apple\", \"banana\", \"guava\", \"orange\", \"kiwi\", \"melon\", \"mango\"]\n",
    "print(fruits[-4:-1])"
   ]
  },
  {
   "cell_type": "markdown",
   "id": "5e64d933",
   "metadata": {},
   "source": [
    "2/Các hoạt động cơ bản trên List trong Python\n",
    "\n",
    "Bạn có thể thực hiện các hoạt động nối 2 list với toán tử + hoặc hoạt động lặp với * như trong các chuỗi. Điểm khác biệt là ở đây nó tạo một List mới, không phải là một chuỗi."
   ]
  },
  {
   "cell_type": "markdown",
   "id": "44934caf",
   "metadata": {},
   "source": [
    "-Thay đổi giá trị của item\n",
    "Để thay đổi giá trị của một item được chỉ định, ta dùng chỉ số và toán tử gán ="
   ]
  },
  {
   "cell_type": "code",
   "execution_count": 9,
   "id": "3a1c7e67",
   "metadata": {},
   "outputs": [
    {
     "name": "stdout",
     "output_type": "stream",
     "text": [
      "['apple', '*orange*', 'guava']\n"
     ]
    }
   ],
   "source": [
    "#ví dụ:\n",
    "fruits = [\"apple\", \"banana\", \"guava\"]\n",
    "fruits[1] = \"*orange*\"\n",
    "print(fruits)"
   ]
  },
  {
   "cell_type": "markdown",
   "id": "17b09b36",
   "metadata": {},
   "source": [
    "-Duyệt các phần tử của một list\n",
    "\n",
    "Bạn có thể duyệt các phần tử của một list bằng cách sử dụng vòng lặp for "
   ]
  },
  {
   "cell_type": "code",
   "execution_count": 10,
   "id": "8a25ca55",
   "metadata": {},
   "outputs": [
    {
     "name": "stdout",
     "output_type": "stream",
     "text": [
      "apple\n",
      "banana\n",
      "guava\n"
     ]
    }
   ],
   "source": [
    "#Ví dụ:\n",
    "fruits = [\"apple\", \"banana\", \"guava\"]\n",
    "for x in fruits:\n",
    "    print(x)"
   ]
  },
  {
   "cell_type": "markdown",
   "id": "ad22b120",
   "metadata": {},
   "source": [
    "-Kiểm tra sự tồn tại của một Item trong list\n",
    "\n",
    "Sử dụng từ khóa in để kiểm tra sử tồn tại của một item trong một list trong Python."
   ]
  },
  {
   "cell_type": "code",
   "execution_count": 11,
   "id": "bf4d4388",
   "metadata": {},
   "outputs": [
    {
     "name": "stdout",
     "output_type": "stream",
     "text": [
      "\"banana\" co ton tai trong list\n"
     ]
    }
   ],
   "source": [
    "#Ví dụ:\n",
    "fruits = [\"apple\", \"banana\", \"guava\"];\n",
    "x = \"banana\" in fruits;\n",
    "if (x == True):\n",
    "    print(\"\\\"banana\\\" co ton tai trong list\");\n",
    "else:\n",
    "    print(\"\\\"banana\\\" khong ton tai trong list\");"
   ]
  },
  {
   "cell_type": "markdown",
   "id": "dc7ba603",
   "metadata": {},
   "source": [
    "-Độ dài của một list trong Python\n",
    "\n",
    "Để xác định danh sách có bao nhiêu item, bạn có thể sử dụng hàm len():"
   ]
  },
  {
   "cell_type": "code",
   "execution_count": 12,
   "id": "19b5eb7e",
   "metadata": {},
   "outputs": [
    {
     "name": "stdout",
     "output_type": "stream",
     "text": [
      "So item cua list fruts la:  3\n"
     ]
    }
   ],
   "source": [
    "#ví dụ:\n",
    "fruits = [\"apple\", \"banana\", \"guava\"];\n",
    "print(\"So item cua list fruts la: \", len(fruits));\n"
   ]
  },
  {
   "cell_type": "markdown",
   "id": "2c33f972",
   "metadata": {},
   "source": [
    "-Thêm phần tử tới List trong Python\n",
    "\n",
    "Để thêm một item (phần tử) vào cuối danh sách, hãy sử dụng phương thức append():"
   ]
  },
  {
   "cell_type": "code",
   "execution_count": 13,
   "id": "87ad9dfc",
   "metadata": {},
   "outputs": [
    {
     "name": "stdout",
     "output_type": "stream",
     "text": [
      "['apple', 'banana', 'guava', 'kiwi']\n"
     ]
    }
   ],
   "source": [
    "#ví dụ\n",
    "fruits = [\"apple\", \"banana\", \"guava\"];\n",
    "fruits.append(\"kiwi\");\n",
    "print(fruits);"
   ]
  },
  {
   "cell_type": "markdown",
   "id": "89268170",
   "metadata": {},
   "source": [
    "Để thêm item tại chỉ mục đã chỉ định, hãy sử dụng phương thức insert():"
   ]
  },
  {
   "cell_type": "code",
   "execution_count": 14,
   "id": "d514e30a",
   "metadata": {},
   "outputs": [
    {
     "name": "stdout",
     "output_type": "stream",
     "text": [
      "['apple', 'banana', 'kiwi', 'guava']\n"
     ]
    }
   ],
   "source": [
    "fruits = [\"apple\", \"banana\", \"guava\"];\n",
    "fruits.insert(2, \"kiwi\");\n",
    "print(fruits);"
   ]
  },
  {
   "cell_type": "markdown",
   "id": "35d0cbdc",
   "metadata": {},
   "source": [
    "-Xóa phần tử khỏi list trong Python\n",
    "\n",
    "Có một số phương pháp để xóa các phần tử khỏi một list như sau:\n",
    "\n",
    "Xóa phần tử bằng phương thức remove()"
   ]
  },
  {
   "cell_type": "code",
   "execution_count": 15,
   "id": "36dd812a",
   "metadata": {},
   "outputs": [
    {
     "name": "stdout",
     "output_type": "stream",
     "text": [
      "['apple', 'guava']\n"
     ]
    }
   ],
   "source": [
    "fruits = [\"apple\", \"banana\", \"guava\"];\n",
    "fruits.remove(\"banana\")\n",
    "print(fruits);"
   ]
  },
  {
   "cell_type": "markdown",
   "id": "a98ee825",
   "metadata": {},
   "source": [
    "Xóa phần tử bằng phương thức pop()\n",
    "Phương thức pop() xóa phần tử cuối cùng của list:"
   ]
  },
  {
   "cell_type": "code",
   "execution_count": 16,
   "id": "b4380ee4",
   "metadata": {},
   "outputs": [
    {
     "name": "stdout",
     "output_type": "stream",
     "text": [
      "['apple', 'banana']\n"
     ]
    }
   ],
   "source": [
    "fruits = [\"apple\", \"banana\", \"guava\"];\n",
    "fruits.pop();\n",
    "print(fruits);"
   ]
  },
  {
   "cell_type": "markdown",
   "id": "ab5fc6b6",
   "metadata": {},
   "source": [
    "Xóa phần tử bằng lệnh del\n",
    "Lệnh del được sử dụng để xóa phần tử có chỉ mục cụ thể:"
   ]
  },
  {
   "cell_type": "code",
   "execution_count": 17,
   "id": "ee42cf18",
   "metadata": {},
   "outputs": [
    {
     "name": "stdout",
     "output_type": "stream",
     "text": [
      "['banana', 'guava']\n"
     ]
    }
   ],
   "source": [
    "fruits = [\"apple\", \"banana\", \"guava\"];\n",
    "del fruits[0]\n",
    "print(fruits);"
   ]
  },
  {
   "cell_type": "markdown",
   "id": "68ae7178",
   "metadata": {},
   "source": [
    "-Copy list trong Python\n",
    "Bạn không thể copy list chỉ bằng cách nhập list2 = list1, bởi vì: list2 sẽ chỉ là một tham chiếu đến list1 và những thay đổi trong list1 cũng sẽ tự động được thực hiện trong list2.\n",
    "\n",
    "Để copy list, python cung cấp phương thức copy()."
   ]
  },
  {
   "cell_type": "code",
   "execution_count": 18,
   "id": "5fc0bd04",
   "metadata": {},
   "outputs": [
    {
     "name": "stdout",
     "output_type": "stream",
     "text": [
      "Bi thay doi theo list ban dau:  ['apple', 'banana', 'guava', 'kiwi']\n",
      "Khong bi thay doi theo list ban dau: ['apple', 'banana', 'guava']\n"
     ]
    }
   ],
   "source": [
    "fruits = [\"apple\", \"banana\", \"guava\"];\n",
    "listCopy1 = fruits;\n",
    "listCopy2 = fruits.copy();\n",
    "fruits.append(\"kiwi\"); # thay doi list ban dau\n",
    "print(\"Bi thay doi theo list ban dau: \", listCopy1);\n",
    "print(\"Khong bi thay doi theo list ban dau:\", listCopy2);"
   ]
  },
  {
   "cell_type": "markdown",
   "id": "efcd6326",
   "metadata": {},
   "source": [
    "-Nối 2 list trong Python\n",
    "Một trong những cách dễ nhất để nối 2 list là sử dụng toán tử +."
   ]
  },
  {
   "cell_type": "code",
   "execution_count": 19,
   "id": "54ba0233",
   "metadata": {},
   "outputs": [
    {
     "name": "stdout",
     "output_type": "stream",
     "text": [
      "['a', 'b', 'c', 1, 2, 3]\n"
     ]
    }
   ],
   "source": [
    "list1 = [\"a\", \"b\" , \"c\"]\n",
    "list2 = [1, 2, 3]\n",
    " \n",
    "list3 = list1 + list2\n",
    "print(list3)"
   ]
  },
  {
   "cell_type": "markdown",
   "id": "21bdc15b",
   "metadata": {},
   "source": [
    "-Constructor List()\n",
    "\n",
    "Bạn có thể sử dụng constructor list() để tạo một danh sách mới."
   ]
  },
  {
   "cell_type": "code",
   "execution_count": 21,
   "id": "8deda3f2",
   "metadata": {},
   "outputs": [
    {
     "name": "stdout",
     "output_type": "stream",
     "text": [
      "['apple', 'banana', 'guava']\n"
     ]
    }
   ],
   "source": [
    "fruits = list((\"apple\", \"banana\", \"guava\"));\n",
    "print(fruits)"
   ]
  }
 ],
 "metadata": {
  "kernelspec": {
   "display_name": "Python 3 (ipykernel)",
   "language": "python",
   "name": "python3"
  },
  "language_info": {
   "codemirror_mode": {
    "name": "ipython",
    "version": 3
   },
   "file_extension": ".py",
   "mimetype": "text/x-python",
   "name": "python",
   "nbconvert_exporter": "python",
   "pygments_lexer": "ipython3",
   "version": "3.10.7"
  }
 },
 "nbformat": 4,
 "nbformat_minor": 5
}
